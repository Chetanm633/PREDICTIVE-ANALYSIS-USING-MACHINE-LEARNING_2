{
  "nbformat": 4,
  "nbformat_minor": 0,
  "metadata": {
    "colab": {
      "private_outputs": true,
      "provenance": []
    },
    "kernelspec": {
      "name": "python3",
      "display_name": "Python 3"
    },
    "language_info": {
      "name": "python"
    }
  },
  "cells": [
    {
      "cell_type": "markdown",
      "source": [
        "**TASK: 2 PREDICTIVE ANALYSIS USING MACHINE LEARNING**"
      ],
      "metadata": {
        "id": "HilE2F2mgLD0"
      }
    },
    {
      "cell_type": "code",
      "source": [
        "import pandas as pd\n",
        "from sklearn.model_selection import train_test_split\n",
        "from sklearn.ensemble import RandomForestClassifier\n",
        "from sklearn.metrics import classification_report, accuracy_score\n",
        "from sklearn.preprocessing import LabelEncoder\n",
        "\n",
        "# Load the data\n",
        "file_path = '/content/Summer-Olympic-medals-1976-to-2008.csv'  # Replace with your file path\n",
        "data = pd.read_csv(file_path, encoding='ISO-8859-1')\n",
        "\n",
        "# Drop rows with missing values\n",
        "data = data.dropna()\n",
        "\n",
        "# Encode categorical variables\n",
        "encoder = LabelEncoder()\n",
        "data['Gender'] = encoder.fit_transform(data['Gender'])\n",
        "data['Country'] = encoder.fit_transform(data['Country'])\n",
        "data['Event'] = encoder.fit_transform(data['Event'])\n",
        "data['Sport'] = encoder.fit_transform(data['Sport'])\n",
        "data['Medal'] = encoder.fit_transform(data['Medal'])  # Target variable\n",
        "\n",
        "# Define features (X) and target (y)\n",
        "features = ['Year', 'Gender', 'Country', 'Event', 'Sport']  # Adjust based on available columns\n",
        "X = data[features]\n",
        "y = data['Medal']\n",
        "\n",
        "# Split data into training and testing sets\n",
        "X_train, X_test, y_train, y_test = train_test_split(X, y, test_size=0.2, random_state=42)\n",
        "\n",
        "# Train a Random Forest classifier\n",
        "model = RandomForestClassifier(random_state=42)\n",
        "model.fit(X_train, y_train)\n",
        "\n",
        "# Make predictions\n",
        "y_pred = model.predict(X_test)\n",
        "\n",
        "# Evaluate the model\n",
        "print(\"Classification Report:\")\n",
        "print(classification_report(y_test, y_pred))\n",
        "print(\"\\nAccuracy Score:\", accuracy_score(y_test, y_pred))\n",
        "\n",
        "# Feature importance\n",
        "importance = model.feature_importances_\n",
        "for i, v in enumerate(importance):\n",
        "    print(f\"Feature: {features[i]}, Importance: {v:.2f}\")"
      ],
      "metadata": {
        "id": "5gcv282xh71U"
      },
      "execution_count": null,
      "outputs": []
    }
  ]
}